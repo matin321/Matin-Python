{
  "cells": [
    {
      "cell_type": "markdown",
      "metadata": {
        "id": "view-in-github",
        "colab_type": "text"
      },
      "source": [
        "<a href=\"https://colab.research.google.com/github/matin321/Matin-Python/blob/main/Untitled1.ipynb\" target=\"_parent\"><img src=\"https://colab.research.google.com/assets/colab-badge.svg\" alt=\"Open In Colab\"/></a>"
      ]
    },
    {
      "cell_type": "code",
      "execution_count": null,
      "metadata": {
        "colab": {
          "base_uri": "https://localhost:8080/"
        },
        "id": "BwonJAOhwVh-",
        "outputId": "b9f3a4c7-26bc-49d3-cca9-972a010bde04"
      },
      "outputs": [
        {
          "name": "stdout",
          "output_type": "stream",
          "text": [
            "hello world!\n"
          ]
        }
      ],
      "source": [
        "print('hello world!')"
      ]
    },
    {
      "cell_type": "code",
      "source": [
        "import random\n",
        "o = open('ListOfWords (1).txt','r')\n",
        "first_list = []\n",
        "incorrect_letters = []\n",
        "s = 0\n",
        "for line in o.readlines():\n",
        "  line = line.strip()\n",
        "  if len(line) == 5:\n",
        "    first_list.append(line)\n",
        "first_word = random.choice(first_list)\n",
        "print('Please inter this word: %s'% first_word)\n",
        "first_co_letter = list(map(str, input('please inter correct letters with space: if there is no correct word, input 0.').split(\" \")))\n",
        "first_co_numbers = list(map(str, input('please inter numbers of letters with space: if you do not know the number, input incorrect number with 0 at first.fx: 03').split(\" \")))\n",
        "for j in first_word:\n",
        "  for k in first_co_letter:\n",
        "    if j == k:\n",
        "      break\n",
        "  else:\n",
        "    incorrect_letters.append(j)\n",
        "for z in incorrect_letters:\n",
        "  for x in first_list:\n",
        "    if z in x:\n",
        "      first_list.remove(x)\n",
        "for num in range(len(first_co_numbers)):\n",
        "  if first_co_numbers[num][0] == '0':\n",
        "    for letter in first_list:\n",
        "      ali = first_co_numbers[num][1]\n",
        "      ali = int(ali)\n",
        "      if letter[ali - 1] == first_co_letter[num]:\n",
        "        first_list.remove(letter)\n",
        "  #for repititive words remove else\n",
        "  else:\n",
        "    for letter in first_list:\n",
        "      mamad = first_co_numbers[num][0]\n",
        "      mamad = int(mamad)\n",
        "      if letter[mamad - 1] != first_co_letter[num]:\n",
        "        first_list.remove(letter)\n",
        "second_word = random.choice(first_list)\n",
        "print(\"please inter this word for second time: %s\" %second_word)"
      ],
      "metadata": {
        "id": "hdcMsRQZpLsT",
        "colab": {
          "base_uri": "https://localhost:8080/"
        },
        "outputId": "33ced8b8-2616-4046-8b0c-f4e0e0619f8f"
      },
      "execution_count": 36,
      "outputs": [
        {
          "output_type": "stream",
          "name": "stdout",
          "text": [
            "Please inter this word: galas\n",
            "please inter correct letters with space: if there is no correct word, input 0.s\n",
            "please inter numbers of letters with space: if you do not know the number, input incorrect number with 0 at first.fx: 0305\n",
            "please inter this word for second time: hiked\n"
          ]
        }
      ]
    },
    {
      "cell_type": "code",
      "execution_count": null,
      "metadata": {
        "id": "4ckU-ybBplVm"
      },
      "outputs": [],
      "source": []
    }
  ],
  "metadata": {
    "colab": {
      "provenance": [],
      "authorship_tag": "ABX9TyO/Y8YHzkuDQnfF+Au4hmCs",
      "include_colab_link": true
    },
    "kernelspec": {
      "display_name": "Python 3",
      "name": "python3"
    },
    "language_info": {
      "name": "python"
    }
  },
  "nbformat": 4,
  "nbformat_minor": 0
}