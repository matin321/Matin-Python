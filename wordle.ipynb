{
  "cells": [
    {
      "cell_type": "markdown",
      "metadata": {
        "id": "view-in-github",
        "colab_type": "text"
      },
      "source": [
        "<a href=\"https://colab.research.google.com/github/matin321/Matin-Python/blob/main/wordle.ipynb\" target=\"_parent\"><img src=\"https://colab.research.google.com/assets/colab-badge.svg\" alt=\"Open In Colab\"/></a>"
      ]
    },
    {
      "cell_type": "code",
      "execution_count": 12,
      "metadata": {
        "colab": {
          "base_uri": "https://localhost:8080/",
          "height": 415
        },
        "id": "BwonJAOhwVh-",
        "outputId": "ee519542-a324-4bc2-cb62-112456a55151"
      },
      "outputs": [
        {
          "name": "stdout",
          "output_type": "stream",
          "text": [
            "Please inter this word: fairs\n",
            "please inter the correct letters with space: if there is not any correct letter inter 0: done\n"
          ]
        },
        {
          "output_type": "error",
          "ename": "KeyboardInterrupt",
          "evalue": "ignored",
          "traceback": [
            "\u001b[0;31m---------------------------------------------------------------------------\u001b[0m",
            "\u001b[0;31mKeyboardInterrupt\u001b[0m                         Traceback (most recent call last)",
            "\u001b[0;32m<ipython-input-12-824e696d5ee6>\u001b[0m in \u001b[0;36m<module>\u001b[0;34m\u001b[0m\n\u001b[1;32m     63\u001b[0m     \u001b[0mprint\u001b[0m\u001b[0;34m(\u001b[0m\u001b[0;34m'congrats!'\u001b[0m\u001b[0;34m)\u001b[0m\u001b[0;34m\u001b[0m\u001b[0;34m\u001b[0m\u001b[0m\n\u001b[1;32m     64\u001b[0m     \u001b[0;32mbreak\u001b[0m\u001b[0;34m\u001b[0m\u001b[0;34m\u001b[0m\u001b[0m\n\u001b[0;32m---> 65\u001b[0;31m   \u001b[0mtotal_list\u001b[0m \u001b[0;34m=\u001b[0m \u001b[0mwordle\u001b[0m\u001b[0;34m(\u001b[0m\u001b[0mtotal_list\u001b[0m\u001b[0;34m,\u001b[0m \u001b[0mincorrect_letters\u001b[0m\u001b[0;34m,\u001b[0m \u001b[0muser_input_letter\u001b[0m\u001b[0;34m,\u001b[0m \u001b[0mfirst_word\u001b[0m\u001b[0;34m)\u001b[0m\u001b[0;34m\u001b[0m\u001b[0;34m\u001b[0m\u001b[0m\n\u001b[0m\u001b[1;32m     66\u001b[0m   \u001b[0mfirst_word\u001b[0m \u001b[0;34m=\u001b[0m \u001b[0mrandom\u001b[0m\u001b[0;34m.\u001b[0m\u001b[0mchoice\u001b[0m\u001b[0;34m(\u001b[0m\u001b[0mtotal_list\u001b[0m\u001b[0;34m)\u001b[0m\u001b[0;34m\u001b[0m\u001b[0;34m\u001b[0m\u001b[0m\n\u001b[1;32m     67\u001b[0m   \u001b[0mprint\u001b[0m\u001b[0;34m(\u001b[0m\u001b[0mfirst_word\u001b[0m\u001b[0;34m)\u001b[0m\u001b[0;34m\u001b[0m\u001b[0;34m\u001b[0m\u001b[0m\n",
            "\u001b[0;32m<ipython-input-12-824e696d5ee6>\u001b[0m in \u001b[0;36mwordle\u001b[0;34m(total_list, incorrect_letters, user_input_letter, first_Word)\u001b[0m\n\u001b[1;32m     11\u001b[0m     \u001b[0;32mreturn\u001b[0m \u001b[0mtotal_list\u001b[0m\u001b[0;34m\u001b[0m\u001b[0;34m\u001b[0m\u001b[0m\n\u001b[1;32m     12\u001b[0m   \u001b[0;32melse\u001b[0m\u001b[0;34m:\u001b[0m\u001b[0;34m\u001b[0m\u001b[0;34m\u001b[0m\u001b[0m\n\u001b[0;32m---> 13\u001b[0;31m     \u001b[0muser_input_number\u001b[0m \u001b[0;34m=\u001b[0m \u001b[0mlist\u001b[0m\u001b[0;34m(\u001b[0m\u001b[0mmap\u001b[0m\u001b[0;34m(\u001b[0m\u001b[0mstr\u001b[0m\u001b[0;34m,\u001b[0m \u001b[0minput\u001b[0m\u001b[0;34m(\u001b[0m\u001b[0;34m'please inter the position number of letters respectively. if this is not accurate inter number twice repetitively. ex 55 or 33.: '\u001b[0m\u001b[0;34m)\u001b[0m\u001b[0;34m.\u001b[0m\u001b[0msplit\u001b[0m\u001b[0;34m(\u001b[0m\u001b[0;34m\" \"\u001b[0m\u001b[0;34m)\u001b[0m\u001b[0;34m)\u001b[0m\u001b[0;34m)\u001b[0m\u001b[0;34m\u001b[0m\u001b[0;34m\u001b[0m\u001b[0m\n\u001b[0m\u001b[1;32m     14\u001b[0m     \u001b[0;32mfor\u001b[0m \u001b[0mi\u001b[0m \u001b[0;32min\u001b[0m \u001b[0mfirst_word\u001b[0m\u001b[0;34m:\u001b[0m\u001b[0;34m\u001b[0m\u001b[0;34m\u001b[0m\u001b[0m\n\u001b[1;32m     15\u001b[0m       \u001b[0;32mif\u001b[0m \u001b[0mi\u001b[0m \u001b[0;32min\u001b[0m \u001b[0muser_input_letter\u001b[0m\u001b[0;34m:\u001b[0m\u001b[0;34m\u001b[0m\u001b[0;34m\u001b[0m\u001b[0m\n",
            "\u001b[0;32m/usr/local/lib/python3.8/dist-packages/ipykernel/kernelbase.py\u001b[0m in \u001b[0;36mraw_input\u001b[0;34m(self, prompt)\u001b[0m\n\u001b[1;32m    858\u001b[0m                 \u001b[0;34m\"raw_input was called, but this frontend does not support input requests.\"\u001b[0m\u001b[0;34m\u001b[0m\u001b[0;34m\u001b[0m\u001b[0m\n\u001b[1;32m    859\u001b[0m             )\n\u001b[0;32m--> 860\u001b[0;31m         return self._input_request(str(prompt),\n\u001b[0m\u001b[1;32m    861\u001b[0m             \u001b[0mself\u001b[0m\u001b[0;34m.\u001b[0m\u001b[0m_parent_ident\u001b[0m\u001b[0;34m,\u001b[0m\u001b[0;34m\u001b[0m\u001b[0;34m\u001b[0m\u001b[0m\n\u001b[1;32m    862\u001b[0m             \u001b[0mself\u001b[0m\u001b[0;34m.\u001b[0m\u001b[0m_parent_header\u001b[0m\u001b[0;34m,\u001b[0m\u001b[0;34m\u001b[0m\u001b[0;34m\u001b[0m\u001b[0m\n",
            "\u001b[0;32m/usr/local/lib/python3.8/dist-packages/ipykernel/kernelbase.py\u001b[0m in \u001b[0;36m_input_request\u001b[0;34m(self, prompt, ident, parent, password)\u001b[0m\n\u001b[1;32m    902\u001b[0m             \u001b[0;32mexcept\u001b[0m \u001b[0mKeyboardInterrupt\u001b[0m\u001b[0;34m:\u001b[0m\u001b[0;34m\u001b[0m\u001b[0;34m\u001b[0m\u001b[0m\n\u001b[1;32m    903\u001b[0m                 \u001b[0;31m# re-raise KeyboardInterrupt, to truncate traceback\u001b[0m\u001b[0;34m\u001b[0m\u001b[0;34m\u001b[0m\u001b[0;34m\u001b[0m\u001b[0m\n\u001b[0;32m--> 904\u001b[0;31m                 \u001b[0;32mraise\u001b[0m \u001b[0mKeyboardInterrupt\u001b[0m\u001b[0;34m(\u001b[0m\u001b[0;34m\"Interrupted by user\"\u001b[0m\u001b[0;34m)\u001b[0m \u001b[0;32mfrom\u001b[0m \u001b[0;32mNone\u001b[0m\u001b[0;34m\u001b[0m\u001b[0;34m\u001b[0m\u001b[0m\n\u001b[0m\u001b[1;32m    905\u001b[0m             \u001b[0;32mexcept\u001b[0m \u001b[0mException\u001b[0m \u001b[0;32mas\u001b[0m \u001b[0me\u001b[0m\u001b[0;34m:\u001b[0m\u001b[0;34m\u001b[0m\u001b[0;34m\u001b[0m\u001b[0m\n\u001b[1;32m    906\u001b[0m                 \u001b[0mself\u001b[0m\u001b[0;34m.\u001b[0m\u001b[0mlog\u001b[0m\u001b[0;34m.\u001b[0m\u001b[0mwarning\u001b[0m\u001b[0;34m(\u001b[0m\u001b[0;34m\"Invalid Message:\"\u001b[0m\u001b[0;34m,\u001b[0m \u001b[0mexc_info\u001b[0m\u001b[0;34m=\u001b[0m\u001b[0;32mTrue\u001b[0m\u001b[0;34m)\u001b[0m\u001b[0;34m\u001b[0m\u001b[0;34m\u001b[0m\u001b[0m\n",
            "\u001b[0;31mKeyboardInterrupt\u001b[0m: Interrupted by user"
          ]
        }
      ],
      "source": [
        "import random\n",
        "o = open('ListOfWords (1).txt','r')\n",
        "def wordle(total_list, incorrect_letters, user_input_letter, first_Word):\n",
        "  if user_input_letter[0] == \"0\":\n",
        "    for i in first_word:\n",
        "      incorrect_letters.append(i)\n",
        "    for j in incorrect_letters:\n",
        "      for k in total_list:\n",
        "        if j in k:\n",
        "          total_list.remove(k)\n",
        "    return total_list\n",
        "  else:\n",
        "    user_input_number = list(map(str, input('please inter the position number of letters respectively. if this is not accurate inter number twice repetitively. ex 55 or 33.: ').split(\" \")))\n",
        "    for i in first_word:\n",
        "      if i in user_input_letter:\n",
        "        pass\n",
        "      else:\n",
        "        incorrect_letters.append(i)\n",
        "    for k in incorrect_letters:\n",
        "      for l in total_list[:]:\n",
        "        if k in l:\n",
        "          total_list.remove(l)\n",
        "  ################ By here we remove words with icorrect letters ###################\n",
        "    for i in user_input_letter:\n",
        "      for j in total_list[:]:\n",
        "        if i not in j:\n",
        "          total_list.remove(j)\n",
        "  ################ By here we remove words which don't have correct letters ###################\n",
        "    for i in range(len(user_input_number)):\n",
        "      if len(user_input_number[i]) == 1:\n",
        "        aliali= int(user_input_number[i]) - 1\n",
        "        clt = first_word[aliali]\n",
        "        for j in total_list[:]:\n",
        "          if j[aliali] != clt:\n",
        "            total_list.remove(j)\n",
        "  ################ By here we remove words which don't have correct letters with correct number ###################\n",
        "    for i in range(len(user_input_number)):\n",
        "      if len(user_input_number[i]) == 2:\n",
        "        mamad = int(user_input_number[i][1]) - 1\n",
        "        inclt = first_word[mamad]\n",
        "        for j in total_list[:]:\n",
        "          if j[mamad] == inclt:\n",
        "            total_list.remove(j)\n",
        "    return total_list\n",
        "total_list = []\n",
        "auxiliary_list = []\n",
        "final_list = []\n",
        "incorrect_letters = []\n",
        "correct_letters = []\n",
        "\n",
        "\n",
        "s = 0\n",
        "for line in o.readlines():\n",
        "  line = line.strip()\n",
        "  if len(line) == 5:\n",
        "    total_list.append(line)\n",
        "############## By here we have created total list ##############\n",
        "first_word = random.choice(total_list)\n",
        "print('Please inter this word: %s'% first_word)\n",
        "while s < 6:\n",
        "  user_input_letter = list(map(str, input('please inter the correct letters with space: if there is not any correct letter inter 0: ').split(\" \")))\n",
        "  total_list = wordle(total_list, incorrect_letters, user_input_letter, first_word)\n",
        "  first_word = random.choice(total_list)\n",
        "  print(first_word)\n",
        "  s=+1\n"
      ]
    }
  ],
  "metadata": {
    "colab": {
      "provenance": [],
      "authorship_tag": "ABX9TyNYWmt4jKy+PPwYAVfiN2IE",
      "include_colab_link": true
    },
    "kernelspec": {
      "display_name": "Python 3",
      "name": "python3"
    },
    "language_info": {
      "name": "python"
    }
  },
  "nbformat": 4,
  "nbformat_minor": 0
}