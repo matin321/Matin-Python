{
  "cells": [
    {
      "cell_type": "markdown",
      "metadata": {
        "id": "view-in-github",
        "colab_type": "text"
      },
      "source": [
        "<a href=\"https://colab.research.google.com/github/matin321/Matin-Python/blob/main/wordle.ipynb\" target=\"_parent\"><img src=\"https://colab.research.google.com/assets/colab-badge.svg\" alt=\"Open In Colab\"/></a>"
      ]
    },
    {
      "cell_type": "code",
      "source": [
        "import random\n",
        "o = open('ListOfWords (1).txt','r')\n",
        "def wordle(total_list, incorrect_letters, user_input_letter, first_Word):\n",
        "  if user_input_letter[0] == \"0\":\n",
        "    for i in first_word:\n",
        "      incorrect_letters.append(i)\n",
        "    for j in incorrect_letters:\n",
        "      for k in total_list:\n",
        "        if j in k:\n",
        "          total_list.remove(k)\n",
        "    return total_list\n",
        "  else:\n",
        "    user_input_number = list(map(str, input('please inter the position number of letters respectively. if this is not accurate inter number twice repetitively. ex 55 or 33.: ').split(\" \")))\n",
        "    for i in first_word:\n",
        "      if i in user_input_letter:\n",
        "        pass\n",
        "      else:\n",
        "        incorrect_letters.append(i)\n",
        "    for k in incorrect_letters:\n",
        "      for l in total_list[:]:\n",
        "        if k in l:\n",
        "          total_list.remove(l)\n",
        "  ################ By here we remove words with icorrect letters ###################\n",
        "    for i in user_input_letter:\n",
        "      for j in total_list[:]:\n",
        "        if i not in j:\n",
        "          total_list.remove(j)\n",
        "  ################ By here we remove words which don't have correct letters ###################\n",
        "    for i in range(len(user_input_number)):\n",
        "      if len(user_input_number[i]) == 1:\n",
        "        aliali= int(user_input_number[i]) - 1\n",
        "        clt = first_word[aliali]\n",
        "        for j in total_list[:]:\n",
        "          if j[aliali] != clt:\n",
        "            total_list.remove(j)\n",
        "  ################ By here we remove words which don't have correct letters with correct number ###################\n",
        "    for i in range(len(user_input_number)):\n",
        "      if len(user_input_number[i]) == 2:\n",
        "        mamad = int(user_input_number[i][1]) - 1\n",
        "        inclt = first_word[mamad]\n",
        "        for j in total_list[:]:\n",
        "          if j[mamad] == inclt:\n",
        "            total_list.remove(j)\n",
        "    return total_list\n",
        "total_list = []\n",
        "auxiliary_list = []\n",
        "final_list = []\n",
        "incorrect_letters = []\n",
        "correct_letters = []\n",
        "\n",
        "\n",
        "s = 0\n",
        "for line in o.readlines():\n",
        "  line = line.strip()\n",
        "  if len(line) == 5:\n",
        "    total_list.append(line)\n",
        "############## By here we have created total list ##############\n",
        "first_word = random.choice(total_list)\n",
        "print('Please inter this word: %s'% first_word)\n",
        "while s < 6:\n",
        "  user_input_letter = list(map(str, input('please inter the correct letters with space: if there is not any correct letter inter 0: ').split(\" \")))\n",
        "  if user_input_letter[0] == 'done':\n",
        "    print('good luck!')\n",
        "    break\n",
        "  else:\n",
        "    total_list = wordle(total_list, incorrect_letters, user_input_letter, first_word)\n",
        "    first_word = random.choice(total_list)\n",
        "    print(len(total_list))\n",
        "    print(first_word)\n",
        "    s=+1\n"
      ],
      "metadata": {
        "id": "LbZbWg8N8vjy"
      },
      "execution_count": null,
      "outputs": []
    }
  ],
  "metadata": {
    "colab": {
      "provenance": [],
      "authorship_tag": "ABX9TyMuBX9Gfu36UWn8k0nZ40Oo",
      "include_colab_link": true
    },
    "kernelspec": {
      "display_name": "Python 3",
      "name": "python3"
    },
    "language_info": {
      "name": "python"
    }
  },
  "nbformat": 4,
  "nbformat_minor": 0
}