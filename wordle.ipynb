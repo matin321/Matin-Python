{
  "cells": [
    {
      "cell_type": "markdown",
      "metadata": {
        "id": "view-in-github",
        "colab_type": "text"
      },
      "source": [
        "<a href=\"https://colab.research.google.com/github/matin321/Matin-Python/blob/main/wordle.ipynb\" target=\"_parent\"><img src=\"https://colab.research.google.com/assets/colab-badge.svg\" alt=\"Open In Colab\"/></a>"
      ]
    },
    {
      "cell_type": "code",
      "execution_count": null,
      "metadata": {
        "colab": {
          "base_uri": "https://localhost:8080/"
        },
        "id": "BwonJAOhwVh-",
        "outputId": "ee519542-a324-4bc2-cb62-112456a55151"
      },
      "outputs": [
        {
          "name": "stdout",
          "output_type": "stream",
          "text": [
            "Please inter this word: fairs\n",
            "please inter the correct letters with space: if there is not any correct letter inter 0: done\n"
          ]
        }
      ],
      "source": [
        "import random\n",
        "o = open('ListOfWords (1).txt','r')\n",
        "def wordle(total_list, incorrect_letters, user_input_letter, first_Word):\n",
        "  if user_input_letter[0] == \"0\":\n",
        "    for i in first_word:\n",
        "      incorrect_letters.append(i)\n",
        "    for j in incorrect_letters:\n",
        "      for k in total_list:\n",
        "        if j in k:\n",
        "          total_list.remove(k)\n",
        "    return total_list\n",
        "  else:\n",
        "    user_input_number = list(map(str, input('please inter the position number of letters respectively. if this is not accurate inter number twice repetitively. ex 55 or 33.: ').split(\" \")))\n",
        "    for i in first_word:\n",
        "      if i in user_input_letter:\n",
        "        pass\n",
        "      else:\n",
        "        incorrect_letters.append(i)\n",
        "    for k in incorrect_letters:\n",
        "      for l in total_list[:]:\n",
        "        if k in l:\n",
        "          total_list.remove(l)\n",
        "  ################ By here we remove words with icorrect letters ###################\n",
        "    for i in user_input_letter:\n",
        "      for j in total_list[:]:\n",
        "        if i not in j:\n",
        "          total_list.remove(j)\n",
        "  ################ By here we remove words which don't have correct letters ###################\n",
        "    for i in range(len(user_input_number)):\n",
        "      if len(user_input_number[i]) == 1:\n",
        "        aliali= int(user_input_number[i]) - 1\n",
        "        clt = first_word[aliali]\n",
        "        for j in total_list[:]:\n",
        "          if j[aliali] != clt:\n",
        "            total_list.remove(j)\n",
        "  ################ By here we remove words which don't have correct letters with correct number ###################\n",
        "    for i in range(len(user_input_number)):\n",
        "      if len(user_input_number[i]) == 2:\n",
        "        mamad = int(user_input_number[i][1]) - 1\n",
        "        inclt = first_word[mamad]\n",
        "        for j in total_list[:]:\n",
        "          if j[mamad] == inclt:\n",
        "            total_list.remove(j)\n",
        "    return total_list\n",
        "total_list = []\n",
        "auxiliary_list = []\n",
        "final_list = []\n",
        "incorrect_letters = []\n",
        "correct_letters = []\n",
        "\n",
        "\n",
        "s = 0\n",
        "for line in o.readlines():\n",
        "  line = line.strip()\n",
        "  if len(line) == 5:\n",
        "    total_list.append(line)\n",
        "############## By here we have created total list ##############\n",
        "first_word = random.choice(total_list)\n",
        "print('Please inter this word: %s'% first_word)\n",
        "while s < 6:\n",
        "  user_input_letter = list(map(str, input('please inter the correct letters with space: if there is not any correct letter inter 0: ').split(\" \")))\n",
        "  total_list = wordle(total_list, incorrect_letters, user_input_letter, first_word)\n",
        "  first_word = random.choice(total_list)\n",
        "  print(first_word)\n",
        "  s=+1\n"
      ]
    },
    {
      "cell_type": "code",
      "execution_count": null,
      "metadata": {
        "colab": {
          "base_uri": "https://localhost:8080/"
        },
        "id": "hdcMsRQZpLsT",
        "outputId": "a903e9e3-765c-490a-e9c1-27d558f3d4fb"
      },
      "outputs": [
        {
          "output_type": "stream",
          "name": "stdout",
          "text": [
            "Please inter this word: heads\n",
            "please inter correct letters with space: if there is no correct word, input 0.H a\n",
            "please inter numbers of letters with space: if you do not know the number, input incorrect number with 0 at first.fx: 031 03\n",
            "talks\n"
          ]
        }
      ],
      "source": [
        "import random\n",
        "o = open('ListOfWords (1).txt','r')\n",
        "first_list = []\n",
        "second_list = []\n",
        "third_list = []\n",
        "incorrect_letters = []\n",
        "s = 0\n",
        "for line in o.readlines():\n",
        "  line = line.strip()\n",
        "  if len(line) == 5:\n",
        "    first_list.append(line)\n",
        "first_word = random.choice(first_list)\n",
        "print('Please inter this word: %s'% first_word)\n",
        "first_co_letter = list(map(str, input('please inter correct letters with space: if there is no correct word, input 0.').split(\" \")))\n",
        "first_co_numbers = list(map(str, input('please inter numbers of letters with space: if you do not know the number, input incorrect number with 0 at first.fx: 03').split(\" \")))\n",
        "for j in first_word:\n",
        "  for k in first_co_letter:\n",
        "    if j == k:\n",
        "      break\n",
        "  else:\n",
        "    incorrect_letters.append(j)\n",
        "for z in incorrect_letters:\n",
        "  for x in first_list:\n",
        "    if z in x:\n",
        "      first_list.remove(x)\n",
        "for num in range(len(first_co_numbers)):\n",
        "  if len(first_co_numbers[num]) == 1:\n",
        "    ali = first_co_numbers[num]\n",
        "    ali = int(ali)\n",
        "    for letter in first_list:\n",
        "      if letter[ali-1] == first_co_letter[num]:\n",
        "        second_list.append(letter)\n",
        "  if len(first_co_numbers[num]) == 2:\n",
        "    mamad = ali = first_co_numbers[num][1]\n",
        "    mamad = int(mamad)\n",
        "    for letter in first_list:\n",
        "      if letter[mamad-1] != first_co_letter[num] and first_co_letter[num] in letter :\n",
        "        third_list.append(letter)\n",
        "if len(second_list) > 0:\n",
        "  for k in third_list:\n",
        "    for g in second_list:\n",
        "      if k == g:\n",
        "        second_list.remove(g)\n",
        "  second_word =  random.choice(second_list)\n",
        "else:\n",
        "  second_word =  random.choice(third_list)\n",
        "  \n",
        "print(second_word)"
      ]
    },
    {
      "cell_type": "code",
      "execution_count": null,
      "metadata": {
        "id": "B7mAOOSX8yEv"
      },
      "outputs": [],
      "source": []
    },
    {
      "cell_type": "code",
      "execution_count": null,
      "metadata": {
        "colab": {
          "base_uri": "https://localhost:8080/",
          "height": 265
        },
        "id": "4ckU-ybBplVm",
        "outputId": "3363d1d8-4910-4805-f0c8-31513f12da58"
      },
      "outputs": [
        {
          "data": {
            "image/png": "[encoded data removed]",
            "text/plain": [
              "<Figure size 432x288 with 1 Axes>"
            ]
          },
          "metadata": {},
          "output_type": "display_data"
        }
      ],
      "source": [
        "import numpy as num\n",
        "import matplotlib.pyplot as plt\n",
        "x_points = np.array([2,5])\n",
        "y_points = np.array([0,5])\n",
        "\n",
        "plt.plot(x_points, y_points)\n",
        "plt.show()"
      ]
    },
    {
      "cell_type": "code",
      "execution_count": null,
      "metadata": {
        "colab": {
          "base_uri": "https://localhost:8080/",
          "height": 283
        },
        "id": "XhlN0_GTH9Nb",
        "outputId": "33247382-acf8-4c67-a783-429d320e826f"
      },
      "outputs": [
        {
          "data": {
            "image/png": "[encoded data removed]",
            "text/plain": [
              "<Figure size 432x288 with 1 Axes>"
            ]
          },
          "metadata": {},
          "output_type": "display_data"
        }
      ],
      "source": [
        "import numpy as np\n",
        "import matplotlib.pyplot as plt\n",
        "def f(x):\n",
        "  return x * x\n",
        "H = 10 ** np.linspace(-5, 2, 100)\n",
        "ErrorF = []\n",
        "ErrorB = []\n",
        "ErrorC = []\n",
        "L = []\n",
        "x0 = np.pi/2.\n",
        "for h in H:\n",
        "  dfx = (f(h + x0) - f(x0)) / h\n",
        "  ErrorF.append(dfx)\n",
        "\n",
        "  dfx = (f(x0) - f(x0 - h)) / h\n",
        "  ErrorB.append(dfx)\n",
        "\n",
        "  dfx = (f(x0 + h) - f(x0 - h)) / (2*h)\n",
        "  ErrorC.append(dfx)\n",
        "plt.plot(H, ErrorF, label = 'forward')\n",
        "plt.plot(H, ErrorB, label = 'backward')\n",
        "plt.plot(H, ErrorC, label= 'central')\n",
        "plt.ylabel('Error')\n",
        "plt.xlabel('H')\n",
        "plt.xscale('log')\n",
        "plt.legend()\n",
        "plt.show()\n",
        "\n"
      ]
    },
    {
      "cell_type": "code",
      "source": [
        "import numpy as np\n",
        "import matplotlib.pyplot as plt\n",
        "\n",
        "def f(x):\n",
        "  return x * x\n",
        "s = 0\n",
        "s0 = 0\n",
        "x0 = 1\n",
        "h = 0.000001\n",
        "while x0 <= 3.:\n",
        "  s+= ((h) * f(x0))\n",
        "  x0 += h\n",
        "print(s)\n",
        "\n",
        "for i in range(1000):\n",
        "  x=np.random.rand()\n",
        "  y=np.random.rand()\n",
        "  plt.plot(x,y,'.',color='black')\n",
        "  if y > f(x):\n",
        "    s+=1\n",
        "\n",
        "xp = np.linspace(0,1, 100)\n",
        "plt.plot(xp, f(xp), '-')\n",
        "plt.show()\n",
        "\n",
        "print(s/1000)\n",
        "\n"
      ],
      "metadata": {
        "colab": {
          "base_uri": "https://localhost:8080/",
          "height": 300
        },
        "id": "AUjO_FyMfOZI",
        "outputId": "9d911cb7-9bcd-41ea-e070-b67a4a40bc3b"
      },
      "execution_count": null,
      "outputs": [
        {
          "output_type": "stream",
          "name": "stdout",
          "text": [
            "8.666662666491188\n"
          ]
        },
        {
          "output_type": "display_data",
          "data": {
            "text/plain": [
              "<Figure size 432x288 with 1 Axes>"
            ],
            "image/png": "[encoded data removed]"
          },
          "metadata": {
            "needs_background": "light"
          }
        },
        {
          "output_type": "stream",
          "name": "stdout",
          "text": [
            "0.6736666626664912\n"
          ]
        }
      ]
    },
    {
      "cell_type": "code",
      "source": [
        "import numpy as num\n",
        "import matplotlib.pyplot as please\n"
      ],
      "metadata": {
        "id": "C3_SJaq3lAoR"
      },
      "execution_count": null,
      "outputs": []
    },
    {
      "cell_type": "code",
      "source": [
        "def f(x):\n",
        "  return x * x\n",
        "x0 = 1\n",
        "h = 0.0001\n",
        "dfx = "
      ],
      "metadata": {
        "id": "FL_LddxulFyG"
      },
      "execution_count": null,
      "outputs": []
    },
    {
      "cell_type": "code",
      "source": [
        "import numpy as np\n",
        "N = 64\n",
        "locations = np.random.rand(N,3)*100\n",
        "velocities = np.random.rand(N,3)\n",
        "velocities -= np.average(velocities)\n",
        "print(velocities)"
      ],
      "metadata": {
        "colab": {
          "base_uri": "https://localhost:8080/"
        },
        "id": "Rd53q7PzeVz6",
        "outputId": "1d2e2dc2-6b7f-4971-93a8-5b7f904c35e4"
      },
      "execution_count": null,
      "outputs": [
        {
          "output_type": "stream",
          "name": "stdout",
          "text": [
            "[[ 4.56991810e-01 -3.19688119e-01 -8.09611295e-02]\n",
            " [ 3.44872372e-01  5.65694202e-02  2.19411178e-01]\n",
            " [-3.57234191e-01  4.46964315e-01  4.55811519e-02]\n",
            " [-1.66577974e-01  2.91651482e-01 -6.45605209e-02]\n",
            " [-1.20345321e-01 -3.22792533e-01  4.00711815e-01]\n",
            " [ 3.96871812e-01 -1.72103952e-01 -1.84935904e-01]\n",
            " [ 4.09859704e-01  2.83397340e-02  3.55589457e-02]\n",
            " [ 4.73602558e-01 -3.06685564e-01 -5.68106969e-03]\n",
            " [-1.83038749e-01  2.05069188e-01  2.75263621e-01]\n",
            " [-2.79697379e-01  1.01336728e-01 -3.57595269e-01]\n",
            " [ 3.10272735e-01  1.90349481e-01 -4.54118801e-01]\n",
            " [ 2.50693793e-01  8.10359980e-02  3.04600359e-02]\n",
            " [-4.26736620e-01  3.10376992e-01  2.56075748e-01]\n",
            " [-2.64603352e-01 -1.80783197e-01 -1.21708236e-01]\n",
            " [ 4.20059447e-01 -4.96640729e-01  1.04801941e-04]\n",
            " [-2.38326920e-01 -2.42121192e-01 -4.62492373e-01]\n",
            " [ 7.87254988e-02 -2.27279916e-01  1.25313171e-01]\n",
            " [-3.27579097e-01 -4.33304715e-01 -2.67206832e-01]\n",
            " [-3.51324915e-01  3.30267001e-01  3.72349324e-01]\n",
            " [ 3.65006908e-01  4.12385795e-01  2.73791992e-01]\n",
            " [ 2.13973608e-01 -2.78667474e-01  4.29873781e-01]\n",
            " [-1.37611804e-01  3.33545133e-01 -4.76273265e-01]\n",
            " [ 3.84700559e-01  1.42526609e-01 -4.08770386e-01]\n",
            " [ 9.78465334e-02  1.94812642e-01 -2.52982510e-02]\n",
            " [ 1.63327215e-01  2.26078112e-01  2.99237820e-01]\n",
            " [-3.87317526e-01  1.30599824e-01  2.09828796e-01]\n",
            " [ 2.47003189e-02 -2.11283968e-01 -8.47910557e-02]\n",
            " [ 4.64772827e-01  3.95588128e-01  4.12600392e-02]\n",
            " [ 1.06876625e-01  2.71712165e-02  4.45524722e-01]\n",
            " [ 1.28929985e-01  1.22620426e-01  1.09711369e-01]\n",
            " [-7.07883369e-02  3.70666656e-01  3.25418017e-02]\n",
            " [-4.75293878e-02 -2.90699965e-01  4.06356968e-01]\n",
            " [ 3.88278142e-01 -1.38294207e-01  2.44173206e-01]\n",
            " [-1.99351104e-01 -6.86259295e-02  3.89144962e-01]\n",
            " [-9.95269867e-02 -9.24119010e-02 -4.29692950e-02]\n",
            " [ 3.20209466e-01 -2.82088764e-01 -1.25652225e-01]\n",
            " [ 4.05375438e-01 -4.98803081e-01 -3.41903275e-01]\n",
            " [ 3.10071487e-01 -2.19558846e-01 -3.62154561e-01]\n",
            " [-3.18773356e-04 -6.81010834e-02 -9.54688303e-02]\n",
            " [-2.09699071e-01 -1.38916075e-01 -4.31143685e-01]\n",
            " [ 6.51135204e-02 -2.64474308e-01  3.53283684e-01]\n",
            " [-4.93672670e-01  7.99055893e-02 -5.21738402e-01]\n",
            " [-1.81971412e-01 -5.09349628e-01  4.31732469e-01]\n",
            " [ 2.61070750e-01  4.57105886e-01 -3.36647218e-01]\n",
            " [-2.36100254e-01 -1.75598723e-01 -3.86426492e-01]\n",
            " [-3.77433596e-01  3.79205972e-01 -4.87874281e-01]\n",
            " [-1.92451038e-01  3.79006537e-01  2.05826788e-01]\n",
            " [ 4.00706015e-01 -4.99543309e-01  1.27932271e-02]\n",
            " [ 3.91273221e-01  6.73719191e-02 -2.45430216e-01]\n",
            " [ 4.08692264e-01 -2.30734000e-01 -8.46024934e-02]\n",
            " [-8.07902763e-02  7.72420390e-02 -1.87720274e-01]\n",
            " [-2.89348190e-01 -1.67620929e-01  9.30038454e-03]\n",
            " [ 8.99620337e-02  3.19065981e-01  2.59968805e-01]\n",
            " [-2.16576436e-01 -1.91833396e-01 -2.09628311e-01]\n",
            " [ 4.05697510e-01  3.94884579e-01  2.54808734e-01]\n",
            " [-1.93042231e-01  1.39504582e-01 -1.23126911e-01]\n",
            " [ 9.29694064e-02  1.68319980e-01  4.28347580e-01]\n",
            " [-3.89895117e-01  4.07322490e-01  1.67263349e-01]\n",
            " [-3.98564924e-01 -3.04372942e-02 -4.15323614e-01]\n",
            " [-7.59681697e-02 -2.38423997e-01 -4.60066277e-01]\n",
            " [-8.84310795e-02  1.50353328e-01 -4.89267316e-01]\n",
            " [ 1.49114127e-01  3.94121315e-01 -1.16998285e-01]\n",
            " [ 1.16977328e-02  1.01484029e-01 -4.55385689e-01]\n",
            " [-1.19597643e-01 -4.30719435e-01  3.72192720e-01]]\n"
          ]
        }
      ]
    }
  ],
  "metadata": {
    "colab": {
      "provenance": [],
      "authorship_tag": "ABX9TyPk8tJZjQcCa+Gu1uNRYcO5",
      "include_colab_link": true
    },
    "kernelspec": {
      "display_name": "Python 3",
      "name": "python3"
    },
    "language_info": {
      "name": "python"
    }
  },
  "nbformat": 4,
  "nbformat_minor": 0
}